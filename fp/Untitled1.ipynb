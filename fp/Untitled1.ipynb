{
 "cells": [
  {
   "cell_type": "code",
   "execution_count": 1,
   "metadata": {},
   "outputs": [
    {
     "name": "stderr",
     "output_type": "stream",
     "text": [
      "Paddle enabled successfully......\n"
     ]
    }
   ],
   "source": [
    "import xlrd\n",
    "import re\n",
    "import json\n",
    "import jieba\n",
    "import pandas as pd\n",
    "import pickle\n",
    "from collections import Counter\n",
    "from zhon.hanzi import punctuation\n",
    "jieba.enable_paddle()"
   ]
  },
  {
   "cell_type": "code",
   "execution_count": 2,
   "metadata": {},
   "outputs": [
    {
     "data": {
      "text/plain": [
       "54"
      ]
     },
     "execution_count": 2,
     "metadata": {},
     "output_type": "execute_result"
    }
   ],
   "source": [
    "people_congress = []\n",
    "data1 = xlrd.open_workbook(\"government_report1.xlsx\")\n",
    "table1 = data1.sheet_by_index(1)\n",
    "nrows = table1.nrows\n",
    "ncols = table1.ncols\n",
    "for row in range(1, nrows):\n",
    "    excel_rows = []\n",
    "    for col in range(ncols):\n",
    "        cell_value = table1.cell(row,col).value\n",
    "        excel_rows.append(cell_value)\n",
    "    people_congress.append(excel_rows)\n",
    "people_congress = pd.DataFrame(people_congress)\n",
    "len(people_congress)\n",
    "#会议文本位于people_congress[i][6]"
   ]
  },
  {
   "cell_type": "code",
   "execution_count": 3,
   "metadata": {},
   "outputs": [],
   "source": [
    "party_congress = []\n",
    "data2 = xlrd.open_workbook(\"party_congress.xlsx\")\n",
    "table2 = data2.sheet_by_index(0)\n",
    "nrows = table2.nrows\n",
    "ncols = table2.ncols\n",
    "for row in range(1, nrows):\n",
    "    excel_rows = []\n",
    "    for col in range(ncols):\n",
    "        cell_value = table2.cell(row,col).value\n",
    "        excel_rows.append(cell_value)\n",
    "    party_congress.append(excel_rows)\n",
    "len(party_congress)\n",
    "\n",
    "people_congress = pd.DataFrame(people_congress)\n",
    "people_congress.to_pickle(\"./people_congress.pkl\")#存储没有清洗的元数据\n",
    "#会议文本位于party_congress[i][7]"
   ]
  },
  {
   "cell_type": "code",
   "execution_count": 4,
   "metadata": {},
   "outputs": [
    {
     "name": "stderr",
     "output_type": "stream",
     "text": [
      "Building prefix dict from the default dictionary ...\n",
      "Loading model from cache C:\\Users\\Abel\\AppData\\Local\\Temp\\jieba.cache\n",
      "Loading model cost 0.934 seconds.\n",
      "Prefix dict has been built successfully.\n"
     ]
    }
   ],
   "source": [
    "punctuation_str = punctuation #导入标点符号库\n",
    "stopwords = [line.strip() for line in open('stopwords.txt', 'r', encoding = 'utf-8').readlines()]\n",
    "#导入停顿词库\n",
    "jieba.load_userdict(\"dictionary.txt\") #导入自定义词典（未使用，可按照词典筛选词）"
   ]
  },
  {
   "cell_type": "code",
   "execution_count": 5,
   "metadata": {},
   "outputs": [],
   "source": [
    "#党代清洗\n",
    "party_text = [] #去除符号、标点等候保留的纯文本\n",
    "for year in range(len(party_congress)):\n",
    "    a = party_congress[year][7]\n",
    "    a = a.replace('\\n','').replace('\\r','').replace(' ','') #去除换行，空格\n",
    "    for i in punctuation:\n",
    "        a = a.replace(i,'') #去除标点符号\n",
    "    party_text.append(a)"
   ]
  },
  {
   "cell_type": "code",
   "execution_count": 6,
   "metadata": {},
   "outputs": [],
   "source": [
    "#创建观感良好的data frame\n",
    "year = []\n",
    "for i in range(len(party_congress)):\n",
    "    t = str(party_congress[i][0])\n",
    "    r = t.rstrip('0').strip('.')\n",
    "    year.append(r)\n",
    "\n",
    "number = []\n",
    "for i in range(len(party_congress)):\n",
    "    t = str(party_congress[i][1])\n",
    "    r = t.rstrip('0').strip('.')\n",
    "    number.append(r) \n",
    "\n",
    "sub_number = []\n",
    "for i in range(len(party_congress)):\n",
    "    t = str(party_congress[i][3])\n",
    "    r = t.rstrip('0').strip('.')\n",
    "    sub_number.append(r)  \n",
    "\n",
    "doctype = []\n",
    "for i in range(len(party_congress)):\n",
    "    t = str(party_congress[i][5])\n",
    "    r = t.rstrip('0').strip('.')\n",
    "    doctype.append(r)  \n",
    "\n",
    "party_list = list(zip(year, number, sub_number, doctype, party_text))\n",
    "\n",
    "import pandas as pd\n",
    "pd.set_option('max_colwidth',150)\n",
    "data_df=pd.DataFrame(party_list, columns=['year','number','sub_number','doctypr','report'])"
   ]
  },
  {
   "cell_type": "code",
   "execution_count": 7,
   "metadata": {},
   "outputs": [],
   "source": [
    "#将不同年限的报告整合在一起\n",
    "def ab(data_df):\n",
    "    return','.join(data_df.values)\n",
    "data_df2 = data_df.groupby('year')['report'].apply(ab)\n",
    "data_df2 = data_df2.reset_index()\n",
    "data_df2 = data_df2.drop(0)\n",
    "data_df2 = data_df2.reset_index() \n",
    "\n",
    "data_df2.to_pickle(\"./data_df2.pkl\")#存储清洗后的数据\n",
    "#删掉第一行后出了错配问题，resetindex后解决，虽然出现了多余一列，但在后续匹配data_final时没有出现问题"
   ]
  },
  {
   "cell_type": "code",
   "execution_count": 32,
   "metadata": {
    "scrolled": true
   },
   "outputs": [],
   "source": [
    "#创建适合CountVectorize的目标数据格式\n",
    "report = []\n",
    "for i in range(len(data_df2)):\n",
    "    all_list = ['  '.join(jieba.cut(data_df2['report'][i],cut_all = False))]\n",
    "    report.append(all_list)\n",
    "data_final = dict(zip(data_df2['year'],report))\n",
    "data_final_df = pd.DataFrame.from_dict(data_final).transpose()\n",
    "data_final_df.columns = ['report']\n",
    "\n",
    "data_final_df.to_pickle(\"./data_final.pkl\") #存储分词后的数据"
   ]
  },
  {
   "cell_type": "code",
   "execution_count": 10,
   "metadata": {},
   "outputs": [],
   "source": [
    "#将分词后数据转化为向量\n",
    "from sklearn.feature_extraction.text import CountVectorizer\n",
    "count_vec = CountVectorizer(stop_words=stopwords,min_df=2)\n",
    "x_count = count_vec.fit_transform(data_final_df.report)\n",
    "data_dtm = pd.DataFrame(x_count.toarray(),columns=count_vec.get_feature_names())\n",
    "data_dtm.index = data_final_df.index\n",
    "data_dtm\n",
    "\n",
    "pickle.dump(count_vec, open(\"./cv_stop.pkl\", \"wb\")) #存储cv数据本身作为语料库\n",
    "data_dtm.to_pickle(\"./dtm.pkl\") #documenttermmatrix数据"
   ]
  },
  {
   "cell_type": "code",
   "execution_count": 18,
   "metadata": {},
   "outputs": [
    {
     "data": {
      "text/plain": [
       "{'1977': [('同志', 136),\n",
       "  ('发展', 101),\n",
       "  ('毛泽东', 97),\n",
       "  ('革命', 88),\n",
       "  ('中国', 86),\n",
       "  ('历史', 71),\n",
       "  ('文化大革命', 68),\n",
       "  ('领导', 65),\n",
       "  ('经济', 57),\n",
       "  ('全国', 56),\n",
       "  ('国家', 53),\n",
       "  ('我国', 51),\n",
       "  ('斗争', 46),\n",
       "  ('提出', 45),\n",
       "  ('思想', 40),\n",
       "  ('政治', 38),\n",
       "  ('无产阶级', 36),\n",
       "  ('毛泽东思想', 36),\n",
       "  ('文化', 33),\n",
       "  ('社会', 32)],\n",
       " '1978': [('精神文明', 46),\n",
       "  ('发展', 35),\n",
       "  ('社会', 32),\n",
       "  ('马克思主义', 27),\n",
       "  ('科学', 24),\n",
       "  ('我国', 24),\n",
       "  ('改革', 22),\n",
       "  ('文化', 22),\n",
       "  ('精神', 19),\n",
       "  ('历史', 19),\n",
       "  ('社会主义现代化', 18),\n",
       "  ('教育', 18),\n",
       "  ('思想', 18),\n",
       "  ('民主', 16),\n",
       "  ('道德', 15),\n",
       "  ('生活', 15),\n",
       "  ('领导', 14),\n",
       "  ('事业', 14),\n",
       "  ('经济', 12),\n",
       "  ('群众', 12)],\n",
       " '1979': [('思想', 118),\n",
       "  ('政治', 113),\n",
       "  ('企业', 98),\n",
       "  ('改革', 57),\n",
       "  ('经济', 51),\n",
       "  ('职工', 34),\n",
       "  ('治理', 32),\n",
       "  ('环境', 31),\n",
       "  ('整顿', 30),\n",
       "  ('国家', 27),\n",
       "  ('经济秩序', 27),\n",
       "  ('发展', 25),\n",
       "  ('全会', 24),\n",
       "  ('社会', 23),\n",
       "  ('群众', 22),\n",
       "  ('领导', 19),\n",
       "  ('我国', 19),\n",
       "  ('保证', 18),\n",
       "  ('作用', 18),\n",
       "  ('中央', 18)],\n",
       " '1980': [('群众', 53),\n",
       "  ('发展', 38),\n",
       "  ('领导', 34),\n",
       "  ('干部', 29),\n",
       "  ('经济', 22),\n",
       "  ('全会', 22),\n",
       "  ('我国', 20),\n",
       "  ('监督', 16),\n",
       "  ('决策', 16),\n",
       "  ('教育', 16),\n",
       "  ('人民群众', 15),\n",
       "  ('中央', 14),\n",
       "  ('党组织', 14),\n",
       "  ('国家', 13),\n",
       "  ('社会', 13),\n",
       "  ('执行', 13),\n",
       "  ('情况', 13),\n",
       "  ('意见', 12),\n",
       "  ('历史', 12),\n",
       "  ('基础', 11)],\n",
       " '1981': [('发展', 224),\n",
       "  ('经济', 134),\n",
       "  ('改革开放', 121),\n",
       "  ('领导', 84),\n",
       "  ('我国', 73),\n",
       "  ('同志', 68),\n",
       "  ('中国', 67),\n",
       "  ('改革', 67),\n",
       "  ('现代化', 62),\n",
       "  ('理论', 59),\n",
       "  ('国家', 58),\n",
       "  ('干部', 56),\n",
       "  ('经济建设', 56),\n",
       "  ('中国特色社会主义', 54),\n",
       "  ('纪检', 54),\n",
       "  ('加快', 51),\n",
       "  ('进一步', 50),\n",
       "  ('党风', 48),\n",
       "  ('路线', 48),\n",
       "  ('大会', 48)],\n",
       " '1982': [('发展', 44),\n",
       "  ('国有企业', 44),\n",
       "  ('改革', 34),\n",
       "  ('我国', 16),\n",
       "  ('经济', 11),\n",
       "  ('搞好', 8),\n",
       "  ('企业', 8),\n",
       "  ('精神', 8),\n",
       "  ('四中全会', 7),\n",
       "  ('目标', 6),\n",
       "  ('提出', 6),\n",
       "  ('增强', 5),\n",
       "  ('党中央', 5),\n",
       "  ('建立', 5),\n",
       "  ('困难', 5),\n",
       "  ('领导', 5),\n",
       "  ('国有经济', 5),\n",
       "  ('实力', 4),\n",
       "  ('社会主义制度', 4),\n",
       "  ('综合国力', 4)],\n",
       " '1983': [('作风', 42),\n",
       "  ('全会', 23),\n",
       "  ('反对', 19),\n",
       "  ('发展', 15),\n",
       "  ('思想', 13),\n",
       "  ('同志', 13),\n",
       "  ('改进', 13),\n",
       "  ('人民群众', 10),\n",
       "  ('领导', 10),\n",
       "  ('干部', 10),\n",
       "  ('江泽民', 9),\n",
       "  ('群众', 9),\n",
       "  ('全党', 9),\n",
       "  ('理论', 9),\n",
       "  ('核心', 8),\n",
       "  ('中国共产党', 8),\n",
       "  ('我国', 7),\n",
       "  ('中央委员会', 7),\n",
       "  ('三个代表', 7),\n",
       "  ('抓住', 7)],\n",
       " '1984': [('发展', 112),\n",
       "  ('完善', 106),\n",
       "  ('改革', 80),\n",
       "  ('制度', 68),\n",
       "  ('经济', 63),\n",
       "  ('企业', 55),\n",
       "  ('社会', 43),\n",
       "  ('体系', 43),\n",
       "  ('深化', 42),\n",
       "  ('管理', 36),\n",
       "  ('市场', 35),\n",
       "  ('加快', 33),\n",
       "  ('就业', 33),\n",
       "  ('建立', 33),\n",
       "  ('社会主义市场经济体制', 32),\n",
       "  ('全会', 30),\n",
       "  ('国家', 28),\n",
       "  ('机制', 27),\n",
       "  ('体制', 27),\n",
       "  ('健全', 26)],\n",
       " '1986': [('发展', 118),\n",
       "  ('执政', 104),\n",
       "  ('能力', 93),\n",
       "  ('提高', 62),\n",
       "  ('领导', 59),\n",
       "  ('思想', 55),\n",
       "  ('社会', 49),\n",
       "  ('同志', 43),\n",
       "  ('制度', 41),\n",
       "  ('完善', 40),\n",
       "  ('江泽民', 39),\n",
       "  ('增强', 35),\n",
       "  ('军队', 34),\n",
       "  ('改革', 34),\n",
       "  ('干部', 31),\n",
       "  ('贯彻', 31),\n",
       "  ('全会', 30),\n",
       "  ('文化', 30),\n",
       "  ('关系', 29),\n",
       "  ('马克思主义', 29)],\n",
       " '1987': [('法治', 193),\n",
       "  ('法律', 138),\n",
       "  ('制度', 122),\n",
       "  ('完善', 101),\n",
       "  ('依法治国', 75),\n",
       "  ('机制', 72),\n",
       "  ('立法', 71),\n",
       "  ('社会', 70),\n",
       "  ('司法', 64),\n",
       "  ('依法', 62),\n",
       "  ('领导', 56),\n",
       "  ('执法', 51),\n",
       "  ('保障', 51),\n",
       "  ('体系', 50),\n",
       "  ('宪法', 49),\n",
       "  ('国家', 49),\n",
       "  ('健全', 49),\n",
       "  ('行政', 48),\n",
       "  ('中国特色社会主义', 42),\n",
       "  ('发展', 40)],\n",
       " '1988': [('宪法', 64),\n",
       "  ('全会', 43),\n",
       "  ('发展', 35),\n",
       "  ('中国特色社会主义', 35),\n",
       "  ('党和国家', 34),\n",
       "  ('国家', 30),\n",
       "  ('体系', 25),\n",
       "  ('机构', 25),\n",
       "  ('领导', 25),\n",
       "  ('深化', 25),\n",
       "  ('十九', 24),\n",
       "  ('精神', 20),\n",
       "  ('职能', 19),\n",
       "  ('思想', 19),\n",
       "  ('治理', 19),\n",
       "  ('机构改革', 18),\n",
       "  ('政治', 17),\n",
       "  ('习近平', 17),\n",
       "  ('时代', 17),\n",
       "  ('制度', 17)],\n",
       " '1989': [('发展', 56),\n",
       "  ('全会', 27),\n",
       "  ('经济', 25),\n",
       "  ('体系', 25),\n",
       "  ('国家', 22),\n",
       "  ('战略', 22),\n",
       "  ('现代化', 18),\n",
       "  ('治理', 15),\n",
       "  ('提出', 15),\n",
       "  ('社会', 15),\n",
       "  ('加快', 14),\n",
       "  ('提升', 14),\n",
       "  ('水平', 13),\n",
       "  ('推动', 13),\n",
       "  ('完善', 12),\n",
       "  ('提高', 11),\n",
       "  ('强国', 10),\n",
       "  ('国内', 10),\n",
       "  ('核心', 10),\n",
       "  ('健全', 10)]}"
      ]
     },
     "execution_count": 18,
     "metadata": {},
     "output_type": "execute_result"
    }
   ],
   "source": [
    "#生成提次数最多得100个词及其词频\n",
    "import pickle\n",
    "data = pd.read_pickle('./dtm.pkl')\n",
    "data = data.transpose()\n",
    "data.head()\n",
    "\n",
    "top_dict = {}\n",
    "for c in data.columns:\n",
    "    top = data[c].sort_values(ascending=False).head(20)\n",
    "    top_dict[c]= list(zip(top.index, top.values))\n",
    "\n",
    "top_dict #这个记得保存一下"
   ]
  },
  {
   "cell_type": "code",
   "execution_count": 14,
   "metadata": {},
   "outputs": [],
   "source": [
    "pd.DataFrame(top_dict).to_csv('top_dict.csv',encoding = 'UTF-8')"
   ]
  },
  {
   "cell_type": "code",
   "execution_count": 34,
   "metadata": {},
   "outputs": [
    {
     "data": {
      "text/plain": [
       "43"
      ]
     },
     "execution_count": 34,
     "metadata": {},
     "output_type": "execute_result"
    }
   ],
   "source": [
    "len(data_final)"
   ]
  },
  {
   "cell_type": "code",
   "execution_count": 21,
   "metadata": {},
   "outputs": [
    {
     "ename": "PermissionError",
     "evalue": "[Errno 13] Permission denied: 'top_words.csv'",
     "output_type": "error",
     "traceback": [
      "\u001b[1;31m---------------------------------------------------------------------------\u001b[0m",
      "\u001b[1;31mPermissionError\u001b[0m                           Traceback (most recent call last)",
      "\u001b[1;32m<ipython-input-21-624722797a62>\u001b[0m in \u001b[0;36m<module>\u001b[1;34m()\u001b[0m\n\u001b[1;32m----> 1\u001b[1;33m \u001b[1;32mwith\u001b[0m \u001b[0mopen\u001b[0m\u001b[1;33m(\u001b[0m\u001b[1;34m'top_words.csv'\u001b[0m\u001b[1;33m,\u001b[0m \u001b[1;34m'w'\u001b[0m\u001b[1;33m)\u001b[0m \u001b[1;32mas\u001b[0m \u001b[0mcsv_file\u001b[0m\u001b[1;33m:\u001b[0m\u001b[1;33m\u001b[0m\u001b[0m\n\u001b[0m\u001b[0;32m      2\u001b[0m     \u001b[0mwriter\u001b[0m \u001b[1;33m=\u001b[0m \u001b[0mcsv\u001b[0m\u001b[1;33m.\u001b[0m\u001b[0mwriter\u001b[0m\u001b[1;33m(\u001b[0m\u001b[0mcsv_file\u001b[0m\u001b[1;33m)\u001b[0m\u001b[1;33m\u001b[0m\u001b[0m\n\u001b[0;32m      3\u001b[0m     \u001b[1;32mfor\u001b[0m \u001b[0mkey\u001b[0m\u001b[1;33m,\u001b[0m \u001b[0mvalue\u001b[0m \u001b[1;32min\u001b[0m \u001b[0mtop_dict\u001b[0m\u001b[1;33m.\u001b[0m\u001b[0mitems\u001b[0m\u001b[1;33m(\u001b[0m\u001b[1;33m)\u001b[0m\u001b[1;33m:\u001b[0m\u001b[1;33m\u001b[0m\u001b[0m\n\u001b[0;32m      4\u001b[0m        \u001b[0mwriter\u001b[0m\u001b[1;33m.\u001b[0m\u001b[0mwriterow\u001b[0m\u001b[1;33m(\u001b[0m\u001b[1;33m[\u001b[0m\u001b[0mkey\u001b[0m\u001b[1;33m,\u001b[0m \u001b[0mvalue\u001b[0m\u001b[1;33m]\u001b[0m\u001b[1;33m)\u001b[0m\u001b[1;33m\u001b[0m\u001b[0m\n",
      "\u001b[1;31mPermissionError\u001b[0m: [Errno 13] Permission denied: 'top_words.csv'"
     ]
    }
   ],
   "source": [
    "with open('top_words.csv', 'w') as csv_file:  \n",
    "    writer = csv.writer(csv_file)\n",
    "    for key, value in top_dict.items():\n",
    "       writer.writerow([key, value])"
   ]
  },
  {
   "cell_type": "code",
   "execution_count": null,
   "metadata": {},
   "outputs": [],
   "source": [
    "#并将前30个词打印\n",
    "for year, top_words in top_dict.items():\n",
    "    print(year)\n",
    "    print(', '.join([word for word, count in top_words[0:29]]))\n",
    "    print('---')"
   ]
  },
  {
   "cell_type": "code",
   "execution_count": null,
   "metadata": {},
   "outputs": [],
   "source": [
    "#tutorial这部分教程是希望将top30words加入stopword，但是comedian数据集和政府工作报告数据集存在区别，我保留了这段code，但没有执行，有必要可以执行\n",
    "from collections import Counter\n",
    "# Let's first pull out the top 30 words for each comedian\n",
    "words = []\n",
    "for year in data.columns:\n",
    "    top = [word for (word, count) in top_dict[year]]\n",
    "    for t in top:\n",
    "        words.append(t) #将频率最高得词进行保存得方法，但注意结果不是按年份，修改代码如下:\n",
    "\n",
    "words = []\n",
    "for year in data.columns:\n",
    "    top = [word for (word, count) in top_dict[year]]\n",
    "    year = []\n",
    "    for t in top:\n",
    "        year.append(t)\n",
    "    word.append(year)"
   ]
  },
  {
   "cell_type": "code",
   "execution_count": null,
   "metadata": {},
   "outputs": [],
   "source": [
    "#wordcloud\n",
    "!pip install WordCloud"
   ]
  },
  {
   "cell_type": "code",
   "execution_count": null,
   "metadata": {},
   "outputs": [],
   "source": [
    "from wordcloud import WordCloud\n",
    "wc = WordCloud(stopwords=stopwords, background_color=\"white\", colormap=\"Dark2\",\n",
    "               max_font_size=150, random_state=42)"
   ]
  },
  {
   "cell_type": "code",
   "execution_count": null,
   "metadata": {},
   "outputs": [],
   "source": [
    "import matplotlib.pyplot as plt\n",
    "# Allows charts to appear in the notebook\n",
    "%matplotlib inline"
   ]
  },
  {
   "cell_type": "code",
   "execution_count": null,
   "metadata": {},
   "outputs": [],
   "source": [
    "data_clean = pd.read_pickle('./data_df2.pkl')"
   ]
  },
  {
   "cell_type": "code",
   "execution_count": null,
   "metadata": {},
   "outputs": [],
   "source": [
    "plt.rcParams['figure.figsize'] = [16, 6]\n",
    "\n",
    "a = list(range(1977,2021))\n",
    "year_num = []\n",
    "for i in range(len(a)):\n",
    "    year.append(str(a[i]))\n",
    "year_num"
   ]
  },
  {
   "cell_type": "code",
   "execution_count": null,
   "metadata": {},
   "outputs": [],
   "source": [
    "# Create subplots for each year\n",
    "for index, year in enumerate(data.columns):\n",
    "    wc.generate(data_clean.report[index])\n",
    "    plt.subplot(11, 4, index+1)\n",
    "    plt.imshow(wc, interpolation=\"bilinear\")\n",
    "    plt.axis(\"off\")\n",
    "    plt.title(year_num[index])\n",
    "    \n",
    "plt.show() #这里的wordcloud画不出来，先看下topic model"
   ]
  },
  {
   "cell_type": "code",
   "execution_count": 21,
   "metadata": {},
   "outputs": [],
   "source": [
    "data = pd.read_pickle('./dtm.pkl')"
   ]
  },
  {
   "cell_type": "code",
   "execution_count": 18,
   "metadata": {},
   "outputs": [
    {
     "name": "stdout",
     "output_type": "stream",
     "text": [
      "Requirement already satisfied: gensim in c:\\users\\abel\\anaconda3\\lib\\site-packages (3.8.3)\n",
      "Requirement already satisfied: smart-open>=1.8.1 in c:\\users\\abel\\anaconda3\\lib\\site-packages (from gensim) (3.0.0)\n",
      "Requirement already satisfied: Cython==0.29.14 in c:\\users\\abel\\anaconda3\\lib\\site-packages (from gensim) (0.29.14)\n",
      "Requirement already satisfied: numpy>=1.11.3 in c:\\users\\abel\\anaconda3\\lib\\site-packages (from gensim) (1.15.1)\n",
      "Requirement already satisfied: scipy>=0.18.1 in c:\\users\\abel\\anaconda3\\lib\\site-packages (from gensim) (1.1.0)\n",
      "Requirement already satisfied: six>=1.5.0 in c:\\users\\abel\\anaconda3\\lib\\site-packages (from gensim) (1.11.0)\n",
      "Requirement already satisfied: requests in c:\\users\\abel\\anaconda3\\lib\\site-packages (from smart-open>=1.8.1->gensim) (2.19.1)\n",
      "Requirement already satisfied: chardet<3.1.0,>=3.0.2 in c:\\users\\abel\\anaconda3\\lib\\site-packages (from requests->smart-open>=1.8.1->gensim) (3.0.4)\n",
      "Requirement already satisfied: urllib3<1.24,>=1.21.1 in c:\\users\\abel\\anaconda3\\lib\\site-packages (from requests->smart-open>=1.8.1->gensim) (1.23)\n",
      "Requirement already satisfied: certifi>=2017.4.17 in c:\\users\\abel\\anaconda3\\lib\\site-packages (from requests->smart-open>=1.8.1->gensim) (2018.8.24)\n",
      "Requirement already satisfied: idna<2.8,>=2.5 in c:\\users\\abel\\anaconda3\\lib\\site-packages (from requests->smart-open>=1.8.1->gensim) (2.7)\n"
     ]
    }
   ],
   "source": [
    "!pip install gensim"
   ]
  },
  {
   "cell_type": "code",
   "execution_count": 22,
   "metadata": {},
   "outputs": [],
   "source": [
    "from gensim import matutils, models\n",
    "import scipy.sparse"
   ]
  },
  {
   "cell_type": "code",
   "execution_count": 23,
   "metadata": {},
   "outputs": [],
   "source": [
    "tdm = data.transpose() "
   ]
  },
  {
   "cell_type": "code",
   "execution_count": 27,
   "metadata": {},
   "outputs": [],
   "source": [
    "id2word = dict((v, k) for k, v in cv.vocabulary_.items())"
   ]
  },
  {
   "cell_type": "code",
   "execution_count": null,
   "metadata": {},
   "outputs": [],
   "source": [
    "lda = models.LdaModel(corpus=corpus, id2word=id2word, num_topics=20, passes=100)\n",
    "lda.print_topics() #这里给出了针对所有文档资料的topic"
   ]
  },
  {
   "cell_type": "code",
   "execution_count": 24,
   "metadata": {},
   "outputs": [],
   "source": [
    "from gensim import corpora, models, similarities\n",
    "from gensim.models import LdaModel\n",
    "from gensim.models import ldaseqmodel\n",
    "from gensim.corpora import Dictionary, bleicorpus\n",
    "import numpy\n",
    "from gensim.matutils import hellinger"
   ]
  },
  {
   "cell_type": "code",
   "execution_count": 25,
   "metadata": {},
   "outputs": [],
   "source": [
    "#根据时间变化的topic\n",
    "sparse_counts2 = scipy.sparse.csr_matrix(data)\n",
    "corpus2 = matutils.Sparse2Corpus(sparse_counts2)"
   ]
  },
  {
   "cell_type": "code",
   "execution_count": null,
   "metadata": {},
   "outputs": [],
   "source": [
    "c = [1,1,1,1,1,1,1,1,1,1,1,1,1,1,1,1,1,1,1,1,1,1,1,1,1,1,1,1,1,1,1,1,1,1,1,1,1,1,1,1,1,1,1,]\n",
    "time_slice = c\n",
    "ldaseq = ldaseqmodel.LdaSeqModel(corpus=corpus, id2word=id2word, time_slice=time_slice, num_topics=3)"
   ]
  },
  {
   "cell_type": "code",
   "execution_count": null,
   "metadata": {},
   "outputs": [],
   "source": []
  },
  {
   "cell_type": "code",
   "execution_count": null,
   "metadata": {},
   "outputs": [],
   "source": []
  },
  {
   "cell_type": "code",
   "execution_count": null,
   "metadata": {},
   "outputs": [],
   "source": []
  },
  {
   "cell_type": "code",
   "execution_count": null,
   "metadata": {},
   "outputs": [],
   "source": []
  }
 ],
 "metadata": {
  "kernelspec": {
   "display_name": "Python 3",
   "language": "python",
   "name": "python3"
  },
  "language_info": {
   "codemirror_mode": {
    "name": "ipython",
    "version": 3
   },
   "file_extension": ".py",
   "mimetype": "text/x-python",
   "name": "python",
   "nbconvert_exporter": "python",
   "pygments_lexer": "ipython3",
   "version": "3.7.0"
  }
 },
 "nbformat": 4,
 "nbformat_minor": 2
}
