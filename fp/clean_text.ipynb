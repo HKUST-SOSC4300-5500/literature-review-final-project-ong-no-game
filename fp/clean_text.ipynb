{
 "cells": [
  {
   "cell_type": "code",
   "execution_count": 2,
   "metadata": {},
   "outputs": [
    {
     "name": "stderr",
     "output_type": "stream",
     "text": [
      "Paddle enabled successfully......\n"
     ]
    }
   ],
   "source": [
    "import xlrd\n",
    "import re\n",
    "import json\n",
    "import jieba\n",
    "from collections import Counter\n",
    "from zhon.hanzi import punctuation\n",
    "jieba.enable_paddle()"
   ]
  },
  {
   "cell_type": "raw",
   "metadata": {},
   "source": [
    "人民代表大会数据导入"
   ]
  },
  {
   "cell_type": "code",
   "execution_count": 11,
   "metadata": {},
   "outputs": [
    {
     "data": {
      "text/plain": [
       "54"
      ]
     },
     "execution_count": 11,
     "metadata": {},
     "output_type": "execute_result"
    }
   ],
   "source": [
    "people_congress = []\n",
    "data1 = xlrd.open_workbook(\"government_report1.xlsx\")\n",
    "table1 = data1.sheet_by_index(1)\n",
    "nrows = table1.nrows\n",
    "ncols = table1.ncols\n",
    "for row in range(1, nrows):\n",
    "    excel_rows = []\n",
    "    for col in range(ncols):\n",
    "        cell_value = table1.cell(row,col).value\n",
    "        excel_rows.append(cell_value)\n",
    "    people_congress.append(excel_rows)\n",
    "len(people_congress)\n",
    "#会议文本位于people_congress[i][6]"
   ]
  },
  {
   "cell_type": "markdown",
   "metadata": {},
   "source": [
    "党代会数据导入"
   ]
  },
  {
   "cell_type": "code",
   "execution_count": 12,
   "metadata": {},
   "outputs": [
    {
     "data": {
      "text/plain": [
       "160"
      ]
     },
     "execution_count": 12,
     "metadata": {},
     "output_type": "execute_result"
    }
   ],
   "source": [
    "party_congress = []\n",
    "data2 = xlrd.open_workbook(\"party_congress.xlsx\")\n",
    "table2 = data2.sheet_by_index(0)\n",
    "nrows = table2.nrows\n",
    "ncols = table2.ncols\n",
    "for row in range(1, nrows):\n",
    "    excel_rows = []\n",
    "    for col in range(ncols):\n",
    "        cell_value = table2.cell(row,col).value\n",
    "        excel_rows.append(cell_value)\n",
    "    party_congress.append(excel_rows)\n",
    "len(party_congress)\n",
    "#会议文本位于party_congress[i][7]"
   ]
  },
  {
   "cell_type": "code",
   "execution_count": 14,
   "metadata": {},
   "outputs": [
    {
     "name": "stderr",
     "output_type": "stream",
     "text": [
      "Building prefix dict from the default dictionary ...\n",
      "Loading model from cache C:\\Users\\Abel\\AppData\\Local\\Temp\\jieba.cache\n",
      "Loading model cost 0.801 seconds.\n",
      "Prefix dict has been built successfully.\n"
     ]
    }
   ],
   "source": [
    "punctuation_str = punctuation #导入标点符号库\n",
    "stopwords = [line.strip() for line in open('stopwords.txt', 'r', encoding = 'utf-8').readlines()]\n",
    "#导入停顿词库\n",
    "jieba.load_userdict(\"dictionary.txt\") #导入自定义词典（未使用，可按照词典筛选词）"
   ]
  },
  {
   "cell_type": "code",
   "execution_count": 19,
   "metadata": {},
   "outputs": [],
   "source": [
    "#人大\n",
    "segSentence = []\n",
    "people_text = [] #去除符号、标点等后保留的纯文本\n",
    "people_text_count = [] #对所有词进行计数后的结果\n",
    "people_text_sorted = [] #计数并按词频降序排列结果\n",
    "outputword_file = \"people_words.json\"\n",
    "for year in range(len(people_congress)):\n",
    "    a = people_congress[year][6]\n",
    "    a = a.replace('\\n','').replace('\\r','').replace(' ','') #去除换行，空格\n",
    "    for i in punctuation:\n",
    "        a = a.replace(i,'') #去除标点符号\n",
    "    people_text.append(a) #纯文本（可自行保存）\n",
    "    segList = jieba.lcut(a, use_paddle = True)\n",
    "    for word in segList:\n",
    "        if word != '\\t':\n",
    "            if word not in stopwords: #去除stopwords\n",
    "                segSentence.append(word)\n",
    "    dict_words = dict(Counter(segSentence))\n",
    "    people_text_count.append(dict_words) #文本计数（可自行保存）\n",
    "    sorted_bow = sorted(dict_words.items(),key=lambda d:d[1], reverse=True)\n",
    "    people_text_sorted.append(sorted_bow) #文本计数排序（可自行保存）\n"
   ]
  },
  {
   "cell_type": "code",
   "execution_count": 21,
   "metadata": {},
   "outputs": [],
   "source": [
    "#党代\n",
    "segSentence = []\n",
    "party_text = []\n",
    "party_text_count = []\n",
    "party_text_sorted = []\n",
    "outputword_file = \"people_words.json\"\n",
    "for year in range(len(party_congress)):\n",
    "    a = party_congress[year][7]\n",
    "    a = a.replace('\\n','').replace('\\r','').replace(' ','') #去除换行，空格\n",
    "    for i in punctuation:\n",
    "        a = a.replace(i,'') #去除标点符号\n",
    "    party_text.append(a)\n",
    "    segList = jieba.lcut(a, use_paddle = True) #分词\n",
    "    for word in segList:\n",
    "        if word != '\\t':\n",
    "            if word not in stopwords: #去除stopwords\n",
    "                segSentence.append(word)\n",
    "    dict_words = dict(Counter(segSentence))\n",
    "    party_text_count.append(dict_words)\n",
    "    sorted_bow = sorted(dict_words.items(),key=lambda d:d[1], reverse=True)\n",
    "    party_text_sorted.append(sorted_bow)"
   ]
  },
  {
   "cell_type": "code",
   "execution_count": null,
   "metadata": {},
   "outputs": [],
   "source": []
  },
  {
   "cell_type": "code",
   "execution_count": null,
   "metadata": {},
   "outputs": [],
   "source": []
  },
  {
   "cell_type": "code",
   "execution_count": null,
   "metadata": {},
   "outputs": [],
   "source": []
  },
  {
   "cell_type": "code",
   "execution_count": null,
   "metadata": {},
   "outputs": [],
   "source": []
  }
 ],
 "metadata": {
  "kernelspec": {
   "display_name": "Python 3",
   "language": "python",
   "name": "python3"
  },
  "language_info": {
   "codemirror_mode": {
    "name": "ipython",
    "version": 3
   },
   "file_extension": ".py",
   "mimetype": "text/x-python",
   "name": "python",
   "nbconvert_exporter": "python",
   "pygments_lexer": "ipython3",
   "version": "3.7.0"
  }
 },
 "nbformat": 4,
 "nbformat_minor": 2
}
